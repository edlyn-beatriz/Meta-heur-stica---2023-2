{
 "cells": [
  {
   "cell_type": "code",
   "execution_count": null,
   "metadata": {},
   "outputs": [],
   "source": [
    "#QUESTÃO 07\n",
    "print(\"Digite o km/h\")\n",
    "x = float(input())\n",
    "y = x/3.6\n",
    "print(\"m/s:\", y)\n"
   ]
  },
  {
   "cell_type": "code",
   "execution_count": null,
   "metadata": {},
   "outputs": [],
   "source": [
    "#QUESTÃO 08\n",
    "print(\"Informe os graus:\")\n",
    "x = float(input())\n",
    "y = (x*3.14)/180\n",
    "print(\"Radianos:\", y)\n"
   ]
  },
  {
   "cell_type": "code",
   "execution_count": null,
   "metadata": {},
   "outputs": [],
   "source": [
    "#QUESTÃO 09\n",
    "print(\"informe quatro notas:\")\n",
    "a = float(input())\n",
    "b = float(input())\n",
    "c = float(input())\n",
    "d = float(input())\n",
    "x = (a+b+c+d)/4\n",
    "print(\"media aritmetica:\", x)"
   ]
  },
  {
   "cell_type": "code",
   "execution_count": null,
   "metadata": {},
   "outputs": [],
   "source": [
    "#QUESTÃO 10\n",
    "print(\"digite o valor em reais:\")\n",
    "a = float (input())\n",
    "x = a//4.9\n",
    "print(\"Valor em dolar:\", x)\n",
    "\n"
   ]
  },
  {
   "cell_type": "code",
   "execution_count": null,
   "metadata": {},
   "outputs": [],
   "source": [
    "#QUESTÃO 11\n",
    "print(\"Dias necessários\")\n",
    "a = float (input())\n",
    "s_d = 55\n",
    "tf = 80\n",
    "x = (a*s_d)+tf\n",
    "print(\"Valor da manutenção:\", x)\n"
   ]
  },
  {
   "cell_type": "code",
   "execution_count": null,
   "metadata": {},
   "outputs": [],
   "source": [
    "#QUESTÃO 12\n",
    "print(\"Valor total do produto:\")\n",
    "a = float (input())\n",
    "x = a*0.88\n",
    "print(\"Valor com desconto:\", x)\n"
   ]
  },
  {
   "cell_type": "code",
   "execution_count": null,
   "metadata": {},
   "outputs": [],
   "source": [
    "#QUESTÃO 13\n",
    "print(\"Informe seu atual salário:\")\n",
    "a = float (input())\n",
    "x = a*1.25\n",
    "print(\"Seu novo salário após o aumento:\", x)\n"
   ]
  },
  {
   "cell_type": "code",
   "execution_count": null,
   "metadata": {},
   "outputs": [],
   "source": [
    "#QUESTÃO 14\n",
    "i = 780000\n",
    "\n",
    "a = i*0.46\n",
    "b = i*0.32\n",
    "c= i-(a+b)\n",
    "print(\"O primeiro recebe: %.2f\"%(a),\"reais\")\n",
    "print(\"O segundo recebe: %.2f \"%(b),\"reais\")\n",
    "print(\"O terceiro recebe: %.2f \"%(c),\"reais\")\n"
   ]
  },
  {
   "cell_type": "code",
   "execution_count": null,
   "metadata": {},
   "outputs": [],
   "source": [
    "#QUESTÃO 15\n",
    "print(\"Informe seu atual salário:\")\n",
    "s = float (input())\n",
    "a = s+(s*0.05)\n",
    "print(\"Salário a receber: %.2f \"%(a-(s*0.07)),\"reais\")\n"
   ]
  },
  {
   "cell_type": "code",
   "execution_count": null,
   "metadata": {},
   "outputs": [],
   "source": [
    "#QUESTÃO 16\n",
    "print(\"Informe o valor da venda:\")\n",
    "s = float (input())\n",
    "\n",
    "d = s*0.90\n",
    "p = s/3\n",
    "c = d*0.05\n",
    "cp = s*0.05\n",
    "\n",
    "print(\"Valor com desconto: %.2f \"%(d),\"reais\")\n",
    "print(\"valor das parcelas (3x) : %.2f \"%(p),\"reais\")\n",
    "print(\"valor da comissão (à vista): %.2f \"%(c),\"reais\")\n",
    "print(\"Valor da comissão (parcelado): %.2f \"%(cp),\"reais\")\n",
    "\n"
   ]
  }
 ],
 "metadata": {
  "kernelspec": {
   "display_name": "Python 3",
   "language": "python",
   "name": "python3"
  },
  "language_info": {
   "name": "python",
   "version": "3.11.5"
  },
  "orig_nbformat": 4
 },
 "nbformat": 4,
 "nbformat_minor": 2
}
